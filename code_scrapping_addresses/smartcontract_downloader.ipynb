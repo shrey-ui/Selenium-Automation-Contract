{
 "cells": [
  {
   "cell_type": "code",
   "execution_count": 5,
   "metadata": {},
   "outputs": [],
   "source": [
    "#reeading the storred data from scrapping_addresses.ipynb\n",
    "%store -r unique_etherscan_addresses\n",
    "%store -r unique_bsc_addresses \n",
    "%store -r addresses_polygon "
   ]
  },
  {
   "cell_type": "code",
   "execution_count": 1,
   "metadata": {},
   "outputs": [],
   "source": [
    "import requests\n",
    "import pandas as pd\n",
    "from bs4 import BeautifulSoup\n"
   ]
  },
  {
   "cell_type": "code",
   "execution_count": 2,
   "metadata": {},
   "outputs": [],
   "source": [
    "# api_key = \"8ZNMKGIWXRXCN58UF5GU23DHIFFCFH2K2T\"\n",
    "\n",
    "# # create a list of addresses\n",
    "# addresses = unique_etherscan_addresses\n",
    "\n",
    "# # create an empty list to hold the source code for each contract\n",
    "# source_codes = []\n",
    "\n",
    "# # iterate through the addresses and get the source code for each contract\n",
    "# for address in addresses:\n",
    "#     url = f\"https://api.etherscan.io/api?module=contract&action=getsourcecode&address={address}&apikey={api_key}\"\n",
    "#     response = requests.get(url)\n",
    "#     data = response.json()\n",
    "    \n",
    "#     # extract the source code from the response\n",
    "#     source_code = data[\"result\"][0][\"SourceCode\"]\n",
    "    \n",
    "#     # add the source code to the list\n",
    "#     source_codes.append(source_code)\n",
    "\n",
    "# # create a pandas DataFrame with the source codes and addresses\n",
    "# df_etherscan = pd.DataFrame({\"Address\": addresses, \"Source Code\": source_codes})\n",
    "\n",
    "# save the DataFrame to a CSV file\n",
    "# df.to_csv(\"smart_contracts.csv\", index=False)"
   ]
  },
  {
   "cell_type": "code",
   "execution_count": 3,
   "metadata": {},
   "outputs": [],
   "source": [
    "\n",
    "def get_contract_source_codes(api_key, addresses, url):\n",
    "    # create an empty list to hold the source code for each contract\n",
    "    source_codes = []\n",
    "\n",
    "    # iterate through the addresses and get the source code for each contract\n",
    "    for address in addresses:\n",
    "        full_url = f\"{url}&address={address}&apikey={api_key}\"\n",
    "        response = requests.get(full_url)\n",
    "        data = response.json()\n",
    "\n",
    "        # extract the source code from the response\n",
    "        source_code = data[\"result\"][0]\n",
    "\n",
    "        # add the source code to the list\n",
    "        source_codes.append(source_code)\n",
    "\n",
    "    # create a pandas DataFrame with the source codes and addresses\n",
    "    df = pd.DataFrame({\"Address\": addresses, \"Source Code\": source_codes})\n",
    "    return df\n"
   ]
  },
  {
   "cell_type": "markdown",
   "metadata": {},
   "source": [
    "#### sourcecode for etherscan addresses"
   ]
  },
  {
   "cell_type": "code",
   "execution_count": null,
   "metadata": {},
   "outputs": [],
   "source": [
    "api_key = \"8ZNMKGIWXRXCN58UF5GU23DHIFFCFH2K2T\"\n",
    "addresses = unique_etherscan_addresses\n",
    "url = f\"https://api.etherscan.io/api?module=contract&action=getsourcecode\"\n",
    "df_etherscan = get_contract_source_codes(api_key, addresses, url)\n",
    "print(df_etherscan.shape)\n",
    "df_etherscan.head()"
   ]
  },
  {
   "cell_type": "code",
   "execution_count": null,
   "metadata": {},
   "outputs": [],
   "source": []
  },
  {
   "cell_type": "markdown",
   "metadata": {},
   "source": [
    "#### sourcecode for bscscan addresses"
   ]
  },
  {
   "cell_type": "code",
   "execution_count": 18,
   "metadata": {},
   "outputs": [
    {
     "name": "stdout",
     "output_type": "stream",
     "text": [
      "(475, 2)\n"
     ]
    },
    {
     "data": {
      "text/html": [
       "<div>\n",
       "<style scoped>\n",
       "    .dataframe tbody tr th:only-of-type {\n",
       "        vertical-align: middle;\n",
       "    }\n",
       "\n",
       "    .dataframe tbody tr th {\n",
       "        vertical-align: top;\n",
       "    }\n",
       "\n",
       "    .dataframe thead th {\n",
       "        text-align: right;\n",
       "    }\n",
       "</style>\n",
       "<table border=\"1\" class=\"dataframe\">\n",
       "  <thead>\n",
       "    <tr style=\"text-align: right;\">\n",
       "      <th></th>\n",
       "      <th>Address</th>\n",
       "      <th>Source Code</th>\n",
       "    </tr>\n",
       "  </thead>\n",
       "  <tbody>\n",
       "    <tr>\n",
       "      <th>0</th>\n",
       "      <td>0x74f08aF7528Ffb751e3A435ddD779b5C4565e684</td>\n",
       "      <td>{{\\r\\n  \"language\": \"Solidity\",\\r\\n  \"sources\"...</td>\n",
       "    </tr>\n",
       "    <tr>\n",
       "      <th>1</th>\n",
       "      <td>0x2189455051A1c1E6190276f84f73Ec6Fb2fe62DF</td>\n",
       "      <td>// File: @openzeppelin/contracts/utils/Context...</td>\n",
       "    </tr>\n",
       "    <tr>\n",
       "      <th>2</th>\n",
       "      <td>0xcc42315f99979fC051Eb7Bee82E869ac41eC514F</td>\n",
       "      <td>{{\\r\\n  \"language\": \"Solidity\",\\r\\n  \"sources\"...</td>\n",
       "    </tr>\n",
       "    <tr>\n",
       "      <th>3</th>\n",
       "      <td>0x183f12bcf0938da9ca773f549f71ddaa89665b23</td>\n",
       "      <td>// SPDX-License-Identifier: MIT\\r\\n\\r\\npragma ...</td>\n",
       "    </tr>\n",
       "    <tr>\n",
       "      <th>4</th>\n",
       "      <td>0x501Cb2Cd15198A4853bF8944b04c2053410A912B</td>\n",
       "      <td>{{\\r\\n  \"language\": \"Solidity\",\\r\\n  \"sources\"...</td>\n",
       "    </tr>\n",
       "  </tbody>\n",
       "</table>\n",
       "</div>"
      ],
      "text/plain": [
       "                                      Address  \\\n",
       "0  0x74f08aF7528Ffb751e3A435ddD779b5C4565e684   \n",
       "1  0x2189455051A1c1E6190276f84f73Ec6Fb2fe62DF   \n",
       "2  0xcc42315f99979fC051Eb7Bee82E869ac41eC514F   \n",
       "3  0x183f12bcf0938da9ca773f549f71ddaa89665b23   \n",
       "4  0x501Cb2Cd15198A4853bF8944b04c2053410A912B   \n",
       "\n",
       "                                         Source Code  \n",
       "0  {{\\r\\n  \"language\": \"Solidity\",\\r\\n  \"sources\"...  \n",
       "1  // File: @openzeppelin/contracts/utils/Context...  \n",
       "2  {{\\r\\n  \"language\": \"Solidity\",\\r\\n  \"sources\"...  \n",
       "3  // SPDX-License-Identifier: MIT\\r\\n\\r\\npragma ...  \n",
       "4  {{\\r\\n  \"language\": \"Solidity\",\\r\\n  \"sources\"...  "
      ]
     },
     "execution_count": 18,
     "metadata": {},
     "output_type": "execute_result"
    }
   ],
   "source": [
    "api_key = \"71HEKDJ52J8BJG97AIYYHCR3EQRK9J4GZZ\"\n",
    "addresses = unique_bsc_addresses\n",
    "url = f\"https://api.bscscan.com/api?module=contract&action=getsourcecode\"\n",
    "df_bscscan = get_contract_source_codes(api_key, addresses, url)\n",
    "print(df_bscscan.shape)\n",
    "df_bscscan.head()"
   ]
  },
  {
   "cell_type": "code",
   "execution_count": null,
   "metadata": {},
   "outputs": [],
   "source": []
  },
  {
   "cell_type": "markdown",
   "metadata": {},
   "source": [
    "#### sourcecode for polygonscan addresses"
   ]
  },
  {
   "cell_type": "code",
   "execution_count": 19,
   "metadata": {},
   "outputs": [
    {
     "name": "stdout",
     "output_type": "stream",
     "text": [
      "(24, 2)\n"
     ]
    },
    {
     "data": {
      "text/html": [
       "<div>\n",
       "<style scoped>\n",
       "    .dataframe tbody tr th:only-of-type {\n",
       "        vertical-align: middle;\n",
       "    }\n",
       "\n",
       "    .dataframe tbody tr th {\n",
       "        vertical-align: top;\n",
       "    }\n",
       "\n",
       "    .dataframe thead th {\n",
       "        text-align: right;\n",
       "    }\n",
       "</style>\n",
       "<table border=\"1\" class=\"dataframe\">\n",
       "  <thead>\n",
       "    <tr style=\"text-align: right;\">\n",
       "      <th></th>\n",
       "      <th>Address</th>\n",
       "      <th>Source Code</th>\n",
       "    </tr>\n",
       "  </thead>\n",
       "  <tbody>\n",
       "    <tr>\n",
       "      <th>0</th>\n",
       "      <td>0xbb8506c39c42f3f35ea3c8de16e2ce807f77b0da</td>\n",
       "      <td>{\"Context.sol\":{\"content\":\"// SPDX-License-Ide...</td>\n",
       "    </tr>\n",
       "    <tr>\n",
       "      <th>1</th>\n",
       "      <td>0x0C47298beEe5203358e7Bc30B9954B584361eAB5</td>\n",
       "      <td>//SPDX-License-Identifier: MIT\\r\\n// Creator: ...</td>\n",
       "    </tr>\n",
       "    <tr>\n",
       "      <th>2</th>\n",
       "      <td>0x5Dd05762b831A977B974Db8759772D41F3D5Ff0b</td>\n",
       "      <td>//SPDX-License-Identifier:MIT\\r\\n\\r\\npragma so...</td>\n",
       "    </tr>\n",
       "    <tr>\n",
       "      <th>3</th>\n",
       "      <td>0xcF06A29C07a1CD8f232C9Ad3e3FFcF1feDA4cee5</td>\n",
       "      <td>// File: @chainlink/contracts/src/v0.8/interfa...</td>\n",
       "    </tr>\n",
       "    <tr>\n",
       "      <th>4</th>\n",
       "      <td>0x2094BEBF8cD8c99a7595165C4de0054dD3191728</td>\n",
       "      <td>{{\\r\\n  \"language\": \"Solidity\",\\r\\n  \"sources\"...</td>\n",
       "    </tr>\n",
       "  </tbody>\n",
       "</table>\n",
       "</div>"
      ],
      "text/plain": [
       "                                      Address  \\\n",
       "0  0xbb8506c39c42f3f35ea3c8de16e2ce807f77b0da   \n",
       "1  0x0C47298beEe5203358e7Bc30B9954B584361eAB5   \n",
       "2  0x5Dd05762b831A977B974Db8759772D41F3D5Ff0b   \n",
       "3  0xcF06A29C07a1CD8f232C9Ad3e3FFcF1feDA4cee5   \n",
       "4  0x2094BEBF8cD8c99a7595165C4de0054dD3191728   \n",
       "\n",
       "                                         Source Code  \n",
       "0  {\"Context.sol\":{\"content\":\"// SPDX-License-Ide...  \n",
       "1  //SPDX-License-Identifier: MIT\\r\\n// Creator: ...  \n",
       "2  //SPDX-License-Identifier:MIT\\r\\n\\r\\npragma so...  \n",
       "3  // File: @chainlink/contracts/src/v0.8/interfa...  \n",
       "4  {{\\r\\n  \"language\": \"Solidity\",\\r\\n  \"sources\"...  "
      ]
     },
     "execution_count": 19,
     "metadata": {},
     "output_type": "execute_result"
    }
   ],
   "source": [
    "api_key = \"5QTB1TUT64EYTMDCSU2XDDWU3RRI4BMQWS\"\n",
    "addresses = addresses_polygon\n",
    "url = \"https://api.polygonscan.com/api?module=contract&action=getsourcecode\"\n",
    "df_polygonscan = get_contract_source_codes(api_key, addresses, url)\n",
    "print(df_polygonscan.shape)\n",
    "df_polygonscan.head()"
   ]
  },
  {
   "cell_type": "code",
   "execution_count": null,
   "metadata": {},
   "outputs": [],
   "source": []
  },
  {
   "cell_type": "code",
   "execution_count": 20,
   "metadata": {},
   "outputs": [
    {
     "name": "stdout",
     "output_type": "stream",
     "text": [
      "(960, 2)\n"
     ]
    },
    {
     "data": {
      "text/html": [
       "<div>\n",
       "<style scoped>\n",
       "    .dataframe tbody tr th:only-of-type {\n",
       "        vertical-align: middle;\n",
       "    }\n",
       "\n",
       "    .dataframe tbody tr th {\n",
       "        vertical-align: top;\n",
       "    }\n",
       "\n",
       "    .dataframe thead th {\n",
       "        text-align: right;\n",
       "    }\n",
       "</style>\n",
       "<table border=\"1\" class=\"dataframe\">\n",
       "  <thead>\n",
       "    <tr style=\"text-align: right;\">\n",
       "      <th></th>\n",
       "      <th>Address</th>\n",
       "      <th>Source Code</th>\n",
       "    </tr>\n",
       "  </thead>\n",
       "  <tbody>\n",
       "    <tr>\n",
       "      <th>0</th>\n",
       "      <td>0xcD682EF09d07668d49A8103ddD65Ff54AebFbfDe</td>\n",
       "      <td>//SPDX-License-Identifier: MIT\\r\\n\\r\\n/**\\r\\n ...</td>\n",
       "    </tr>\n",
       "    <tr>\n",
       "      <th>1</th>\n",
       "      <td>0x42b91f1d05afea671a2da3c780eda2abf0a2a366</td>\n",
       "      <td>// SPDX-License-Identifier: MIT\\r\\n\\r\\n\\r\\n/*\\...</td>\n",
       "    </tr>\n",
       "    <tr>\n",
       "      <th>2</th>\n",
       "      <td>0x19B67Be378a5A66C641d15aEb46f2E94974a8A61</td>\n",
       "      <td>{{\\r\\n  \"language\": \"Solidity\",\\r\\n  \"sources\"...</td>\n",
       "    </tr>\n",
       "    <tr>\n",
       "      <th>3</th>\n",
       "      <td>0x2fdb5d28d01be42e941e7a195a5694d996064283</td>\n",
       "      <td>// File: contracts/CRI.sol\\r\\n\\r\\n/**\\r\\n \\r\\n...</td>\n",
       "    </tr>\n",
       "    <tr>\n",
       "      <th>4</th>\n",
       "      <td>0x2c022e58C5E3Ee213F06f975fd8a0d3a6fE9Ca1C</td>\n",
       "      <td>// SPDX-License-Identifier: MIT\\r\\npragma soli...</td>\n",
       "    </tr>\n",
       "    <tr>\n",
       "      <th>5</th>\n",
       "      <td>0xBBbD1BbB4f9b936C3604906D7592A644071dE884</td>\n",
       "      <td>/**\\r\\n *Submitted for verification at BscScan...</td>\n",
       "    </tr>\n",
       "    <tr>\n",
       "      <th>6</th>\n",
       "      <td>0x02130d419dc3c0e73fb9d028741ccabbd2d31062</td>\n",
       "      <td>// SPDX-License-Identifier: Unlicensed\\r\\n\\r\\n...</td>\n",
       "    </tr>\n",
       "    <tr>\n",
       "      <th>7</th>\n",
       "      <td>0x048aa6e69d5117bd665af4128383a6982b8367b3</td>\n",
       "      <td>{{\\r\\n  \"language\": \"Solidity\",\\r\\n  \"sources\"...</td>\n",
       "    </tr>\n",
       "    <tr>\n",
       "      <th>8</th>\n",
       "      <td>0x0cbA60Ca5eF4D42f92A5070A8fEDD13BE93E2861</td>\n",
       "      <td>// SPDX-License-Identifier: MIT\\r\\npragma soli...</td>\n",
       "    </tr>\n",
       "    <tr>\n",
       "      <th>9</th>\n",
       "      <td>0xe3a46b2bc1d83c731d58cab765d3b45bce789095</td>\n",
       "      <td>{{\\r\\n  \"language\": \"Solidity\",\\r\\n  \"sources\"...</td>\n",
       "    </tr>\n",
       "  </tbody>\n",
       "</table>\n",
       "</div>"
      ],
      "text/plain": [
       "                                      Address  \\\n",
       "0  0xcD682EF09d07668d49A8103ddD65Ff54AebFbfDe   \n",
       "1  0x42b91f1d05afea671a2da3c780eda2abf0a2a366   \n",
       "2  0x19B67Be378a5A66C641d15aEb46f2E94974a8A61   \n",
       "3  0x2fdb5d28d01be42e941e7a195a5694d996064283   \n",
       "4  0x2c022e58C5E3Ee213F06f975fd8a0d3a6fE9Ca1C   \n",
       "5  0xBBbD1BbB4f9b936C3604906D7592A644071dE884   \n",
       "6  0x02130d419dc3c0e73fb9d028741ccabbd2d31062   \n",
       "7  0x048aa6e69d5117bd665af4128383a6982b8367b3   \n",
       "8  0x0cbA60Ca5eF4D42f92A5070A8fEDD13BE93E2861   \n",
       "9  0xe3a46b2bc1d83c731d58cab765d3b45bce789095   \n",
       "\n",
       "                                         Source Code  \n",
       "0  //SPDX-License-Identifier: MIT\\r\\n\\r\\n/**\\r\\n ...  \n",
       "1  // SPDX-License-Identifier: MIT\\r\\n\\r\\n\\r\\n/*\\...  \n",
       "2  {{\\r\\n  \"language\": \"Solidity\",\\r\\n  \"sources\"...  \n",
       "3  // File: contracts/CRI.sol\\r\\n\\r\\n/**\\r\\n \\r\\n...  \n",
       "4  // SPDX-License-Identifier: MIT\\r\\npragma soli...  \n",
       "5  /**\\r\\n *Submitted for verification at BscScan...  \n",
       "6  // SPDX-License-Identifier: Unlicensed\\r\\n\\r\\n...  \n",
       "7  {{\\r\\n  \"language\": \"Solidity\",\\r\\n  \"sources\"...  \n",
       "8  // SPDX-License-Identifier: MIT\\r\\npragma soli...  \n",
       "9  {{\\r\\n  \"language\": \"Solidity\",\\r\\n  \"sources\"...  "
      ]
     },
     "execution_count": 20,
     "metadata": {},
     "output_type": "execute_result"
    }
   ],
   "source": [
    "df_combined = pd.concat([df_etherscan, df_bscscan, df_polygonscan], axis=0)\n",
    "print(df_combined.shape)\n",
    "df_combined.head(10)"
   ]
  },
  {
   "cell_type": "code",
   "execution_count": 48,
   "metadata": {},
   "outputs": [],
   "source": [
    "df_combined.to_csv(r'C:\\Users\\vasim\\Desktop\\immunebytes\\codes\\scrapping\\scrapped_smartcontracts\\combinedaddressdata.csv')"
   ]
  },
  {
   "cell_type": "code",
   "execution_count": null,
   "metadata": {},
   "outputs": [],
   "source": []
  },
  {
   "cell_type": "markdown",
   "metadata": {},
   "source": [
    "#### sourcecode for token addresses(etherscan)"
   ]
  },
  {
   "cell_type": "code",
   "execution_count": 21,
   "metadata": {},
   "outputs": [
    {
     "data": {
      "text/html": [
       "<div>\n",
       "<style scoped>\n",
       "    .dataframe tbody tr th:only-of-type {\n",
       "        vertical-align: middle;\n",
       "    }\n",
       "\n",
       "    .dataframe tbody tr th {\n",
       "        vertical-align: top;\n",
       "    }\n",
       "\n",
       "    .dataframe thead th {\n",
       "        text-align: right;\n",
       "    }\n",
       "</style>\n",
       "<table border=\"1\" class=\"dataframe\">\n",
       "  <thead>\n",
       "    <tr style=\"text-align: right;\">\n",
       "      <th></th>\n",
       "      <th>Etherscan_Token_Name</th>\n",
       "      <th>Token_Address</th>\n",
       "      <th>Token_Price</th>\n",
       "    </tr>\n",
       "  </thead>\n",
       "  <tbody>\n",
       "    <tr>\n",
       "      <th>0</th>\n",
       "      <td>Tether USD</td>\n",
       "      <td>0xdac17f958d2ee523a2206206994597c13d831ec7</td>\n",
       "      <td>$70,433,616,802.00</td>\n",
       "    </tr>\n",
       "    <tr>\n",
       "      <th>1</th>\n",
       "      <td>BNB</td>\n",
       "      <td>0xB8c77482e45F1F44dE1745F52C74426C631bDD52</td>\n",
       "      <td>$49,857,978,296.00</td>\n",
       "    </tr>\n",
       "    <tr>\n",
       "      <th>2</th>\n",
       "      <td>USD Coin</td>\n",
       "      <td>0xa0b86991c6218b36c1d19d4a2e9eb0ce3606eb48</td>\n",
       "      <td>$41,923,319,670.00</td>\n",
       "    </tr>\n",
       "    <tr>\n",
       "      <th>3</th>\n",
       "      <td>OKB</td>\n",
       "      <td>0x75231f58b43240c9718dd58b4967c5114342a86c</td>\n",
       "      <td>$13,093,674,697.00</td>\n",
       "    </tr>\n",
       "    <tr>\n",
       "      <th>4</th>\n",
       "      <td>Matic Token</td>\n",
       "      <td>0x7d1afa7b718fb893db30a3abc0cfc608aacfebb0</td>\n",
       "      <td>$12,832,299,469.00</td>\n",
       "    </tr>\n",
       "  </tbody>\n",
       "</table>\n",
       "</div>"
      ],
      "text/plain": [
       "  Etherscan_Token_Name                               Token_Address  \\\n",
       "0           Tether USD  0xdac17f958d2ee523a2206206994597c13d831ec7   \n",
       "1                  BNB  0xB8c77482e45F1F44dE1745F52C74426C631bDD52   \n",
       "2             USD Coin  0xa0b86991c6218b36c1d19d4a2e9eb0ce3606eb48   \n",
       "3                  OKB  0x75231f58b43240c9718dd58b4967c5114342a86c   \n",
       "4          Matic Token  0x7d1afa7b718fb893db30a3abc0cfc608aacfebb0   \n",
       "\n",
       "          Token_Price  \n",
       "0  $70,433,616,802.00  \n",
       "1  $49,857,978,296.00  \n",
       "2  $41,923,319,670.00  \n",
       "3  $13,093,674,697.00  \n",
       "4  $12,832,299,469.00  "
      ]
     },
     "execution_count": 21,
     "metadata": {},
     "output_type": "execute_result"
    }
   ],
   "source": [
    "df_Etherscan_Token = pd.read_csv(\"address_token_etherscan.csv\")\n",
    "df_Etherscan_Token.head()"
   ]
  },
  {
   "cell_type": "code",
   "execution_count": 41,
   "metadata": {},
   "outputs": [],
   "source": [
    "api_key = \"8ZNMKGIWXRXCN58UF5GU23DHIFFCFH2K2T\"\n",
    "url = f\"https://api.etherscan.io/api?module=contract&action=getsourcecode\"\n",
    "df_Etherscan_Token['Source_Code'] = get_contract_source_codes(api_key, df_Etherscan_Token['Token_Address'], url)['Source Code']\n"
   ]
  },
  {
   "cell_type": "code",
   "execution_count": 42,
   "metadata": {},
   "outputs": [
    {
     "data": {
      "text/html": [
       "<div>\n",
       "<style scoped>\n",
       "    .dataframe tbody tr th:only-of-type {\n",
       "        vertical-align: middle;\n",
       "    }\n",
       "\n",
       "    .dataframe tbody tr th {\n",
       "        vertical-align: top;\n",
       "    }\n",
       "\n",
       "    .dataframe thead th {\n",
       "        text-align: right;\n",
       "    }\n",
       "</style>\n",
       "<table border=\"1\" class=\"dataframe\">\n",
       "  <thead>\n",
       "    <tr style=\"text-align: right;\">\n",
       "      <th></th>\n",
       "      <th>Etherscan_Token_Name</th>\n",
       "      <th>Token_Address</th>\n",
       "      <th>Token_Price</th>\n",
       "      <th>Source_Code</th>\n",
       "    </tr>\n",
       "  </thead>\n",
       "  <tbody>\n",
       "    <tr>\n",
       "      <th>0</th>\n",
       "      <td>Tether USD</td>\n",
       "      <td>0xdac17f958d2ee523a2206206994597c13d831ec7</td>\n",
       "      <td>$70,433,616,802.00</td>\n",
       "      <td>pragma solidity ^0.4.17;\\r\\n\\r\\n/**\\r\\n * @tit...</td>\n",
       "    </tr>\n",
       "    <tr>\n",
       "      <th>1</th>\n",
       "      <td>BNB</td>\n",
       "      <td>0xB8c77482e45F1F44dE1745F52C74426C631bDD52</td>\n",
       "      <td>$49,857,978,296.00</td>\n",
       "      <td>pragma solidity ^0.4.8;\\r\\n\\r\\n/**\\r\\n * Math ...</td>\n",
       "    </tr>\n",
       "    <tr>\n",
       "      <th>2</th>\n",
       "      <td>USD Coin</td>\n",
       "      <td>0xa0b86991c6218b36c1d19d4a2e9eb0ce3606eb48</td>\n",
       "      <td>$41,923,319,670.00</td>\n",
       "      <td>pragma solidity ^0.4.24;\\r\\n\\r\\n// File: zos-l...</td>\n",
       "    </tr>\n",
       "    <tr>\n",
       "      <th>3</th>\n",
       "      <td>OKB</td>\n",
       "      <td>0x75231f58b43240c9718dd58b4967c5114342a86c</td>\n",
       "      <td>$13,093,674,697.00</td>\n",
       "      <td>{\"Address.sol\":{\"content\":\"pragma solidity ^0....</td>\n",
       "    </tr>\n",
       "    <tr>\n",
       "      <th>4</th>\n",
       "      <td>Matic Token</td>\n",
       "      <td>0x7d1afa7b718fb893db30a3abc0cfc608aacfebb0</td>\n",
       "      <td>$12,832,299,469.00</td>\n",
       "      <td>pragma solidity 0.5.2;\\r\\n\\r\\n// File: openzep...</td>\n",
       "    </tr>\n",
       "  </tbody>\n",
       "</table>\n",
       "</div>"
      ],
      "text/plain": [
       "  Etherscan_Token_Name                               Token_Address  \\\n",
       "0           Tether USD  0xdac17f958d2ee523a2206206994597c13d831ec7   \n",
       "1                  BNB  0xB8c77482e45F1F44dE1745F52C74426C631bDD52   \n",
       "2             USD Coin  0xa0b86991c6218b36c1d19d4a2e9eb0ce3606eb48   \n",
       "3                  OKB  0x75231f58b43240c9718dd58b4967c5114342a86c   \n",
       "4          Matic Token  0x7d1afa7b718fb893db30a3abc0cfc608aacfebb0   \n",
       "\n",
       "          Token_Price                                        Source_Code  \n",
       "0  $70,433,616,802.00  pragma solidity ^0.4.17;\\r\\n\\r\\n/**\\r\\n * @tit...  \n",
       "1  $49,857,978,296.00  pragma solidity ^0.4.8;\\r\\n\\r\\n/**\\r\\n * Math ...  \n",
       "2  $41,923,319,670.00  pragma solidity ^0.4.24;\\r\\n\\r\\n// File: zos-l...  \n",
       "3  $13,093,674,697.00  {\"Address.sol\":{\"content\":\"pragma solidity ^0....  \n",
       "4  $12,832,299,469.00  pragma solidity 0.5.2;\\r\\n\\r\\n// File: openzep...  "
      ]
     },
     "execution_count": 42,
     "metadata": {},
     "output_type": "execute_result"
    }
   ],
   "source": [
    "df_Etherscan_Token.head()"
   ]
  },
  {
   "cell_type": "code",
   "execution_count": 47,
   "metadata": {},
   "outputs": [],
   "source": [
    "df_Etherscan_Token.to_csv(r'C:\\Users\\vasim\\Desktop\\immunebytes\\codes\\scrapping\\scrapped_smartcontracts\\etherscantokendata.csv')"
   ]
  },
  {
   "cell_type": "code",
   "execution_count": null,
   "metadata": {},
   "outputs": [],
   "source": []
  },
  {
   "cell_type": "markdown",
   "metadata": {},
   "source": [
    "#### sourcecode for token addresses(bscscan)"
   ]
  },
  {
   "cell_type": "code",
   "execution_count": 43,
   "metadata": {},
   "outputs": [
    {
     "name": "stdout",
     "output_type": "stream",
     "text": [
      "(796, 3)\n"
     ]
    },
    {
     "data": {
      "text/html": [
       "<div>\n",
       "<style scoped>\n",
       "    .dataframe tbody tr th:only-of-type {\n",
       "        vertical-align: middle;\n",
       "    }\n",
       "\n",
       "    .dataframe tbody tr th {\n",
       "        vertical-align: top;\n",
       "    }\n",
       "\n",
       "    .dataframe thead th {\n",
       "        text-align: right;\n",
       "    }\n",
       "</style>\n",
       "<table border=\"1\" class=\"dataframe\">\n",
       "  <thead>\n",
       "    <tr style=\"text-align: right;\">\n",
       "      <th></th>\n",
       "      <th>bsc_Token_Name</th>\n",
       "      <th>Token_Address</th>\n",
       "      <th>Token_Price</th>\n",
       "    </tr>\n",
       "  </thead>\n",
       "  <tbody>\n",
       "    <tr>\n",
       "      <th>0</th>\n",
       "      <td>Binance-Peg Ethereum Token (ETH)</td>\n",
       "      <td>0x2170ed0880ac9a755fd29b2688956bd959f933f8</td>\n",
       "      <td>$204,759,829,371.00</td>\n",
       "    </tr>\n",
       "    <tr>\n",
       "      <th>1</th>\n",
       "      <td>Binance-Peg BSC-USD (BSC-USD)</td>\n",
       "      <td>0x55d398326f99059ff775485246999027b3197955</td>\n",
       "      <td>$70,394,919,623.00</td>\n",
       "    </tr>\n",
       "    <tr>\n",
       "      <th>2</th>\n",
       "      <td>Wrapped BNB (WBNB)</td>\n",
       "      <td>0xbb4CdB9CBd36B01bD1cBaEBF2De08d9173bc095c</td>\n",
       "      <td>$49,837,104,551.00</td>\n",
       "    </tr>\n",
       "    <tr>\n",
       "      <th>3</th>\n",
       "      <td>Binance-Peg USD Coin (USDC)</td>\n",
       "      <td>0x8ac76a51cc950d9822d68b83fe1ad97b32cd580d</td>\n",
       "      <td>$41,898,632,304.00</td>\n",
       "    </tr>\n",
       "    <tr>\n",
       "      <th>4</th>\n",
       "      <td>USDC (anyUSDC)</td>\n",
       "      <td>0x8965349fb649a33a30cbfda057d8ec2c48abe2a2</td>\n",
       "      <td>$41,898,632,304.00</td>\n",
       "    </tr>\n",
       "  </tbody>\n",
       "</table>\n",
       "</div>"
      ],
      "text/plain": [
       "                     bsc_Token_Name  \\\n",
       "0  Binance-Peg Ethereum Token (ETH)   \n",
       "1     Binance-Peg BSC-USD (BSC-USD)   \n",
       "2                Wrapped BNB (WBNB)   \n",
       "3       Binance-Peg USD Coin (USDC)   \n",
       "4                    USDC (anyUSDC)   \n",
       "\n",
       "                                Token_Address          Token_Price  \n",
       "0  0x2170ed0880ac9a755fd29b2688956bd959f933f8  $204,759,829,371.00  \n",
       "1  0x55d398326f99059ff775485246999027b3197955   $70,394,919,623.00  \n",
       "2  0xbb4CdB9CBd36B01bD1cBaEBF2De08d9173bc095c   $49,837,104,551.00  \n",
       "3  0x8ac76a51cc950d9822d68b83fe1ad97b32cd580d   $41,898,632,304.00  \n",
       "4  0x8965349fb649a33a30cbfda057d8ec2c48abe2a2   $41,898,632,304.00  "
      ]
     },
     "execution_count": 43,
     "metadata": {},
     "output_type": "execute_result"
    }
   ],
   "source": [
    "df_Bscscan_Token = pd.read_csv(\"address_token_bscscan.csv\")\n",
    "print(df_Bscscan_Token.shape)\n",
    "df_Bscscan_Token.head()"
   ]
  },
  {
   "cell_type": "code",
   "execution_count": 44,
   "metadata": {},
   "outputs": [],
   "source": [
    "api_key = \"71HEKDJ52J8BJG97AIYYHCR3EQRK9J4GZZ\"\n",
    "url = f\"https://api.bscscan.com/api?module=contract&action=getsourcecode\"\n",
    "df_Bscscan_Token['Source_Code'] = get_contract_source_codes(api_key, df_Bscscan_Token['Token_Address'], url)['Source Code']\n"
   ]
  },
  {
   "cell_type": "code",
   "execution_count": 45,
   "metadata": {},
   "outputs": [
    {
     "data": {
      "text/html": [
       "<div>\n",
       "<style scoped>\n",
       "    .dataframe tbody tr th:only-of-type {\n",
       "        vertical-align: middle;\n",
       "    }\n",
       "\n",
       "    .dataframe tbody tr th {\n",
       "        vertical-align: top;\n",
       "    }\n",
       "\n",
       "    .dataframe thead th {\n",
       "        text-align: right;\n",
       "    }\n",
       "</style>\n",
       "<table border=\"1\" class=\"dataframe\">\n",
       "  <thead>\n",
       "    <tr style=\"text-align: right;\">\n",
       "      <th></th>\n",
       "      <th>bsc_Token_Name</th>\n",
       "      <th>Token_Address</th>\n",
       "      <th>Token_Price</th>\n",
       "      <th>Source_Code</th>\n",
       "    </tr>\n",
       "  </thead>\n",
       "  <tbody>\n",
       "    <tr>\n",
       "      <th>786</th>\n",
       "      <td>Wraith Protocol (anyWRAITH)</td>\n",
       "      <td>0x2630c7d2104b92721357b3735412ce647a28ed8a</td>\n",
       "      <td>--</td>\n",
       "      <td>/**\\r\\n *Submitted for verification at polygon...</td>\n",
       "    </tr>\n",
       "    <tr>\n",
       "      <th>787</th>\n",
       "      <td>Wrapped AVAX (Wormhole) (WAVAX)</td>\n",
       "      <td>0x96412902aa9aff61e13f085e70d3152c6ef2a817</td>\n",
       "      <td>--</td>\n",
       "      <td>// File: @openzeppelin/contracts/utils/Storage...</td>\n",
       "    </tr>\n",
       "    <tr>\n",
       "      <th>788</th>\n",
       "      <td>Wrapped Ether (Wormhole) (WETH)</td>\n",
       "      <td>0x4db5a66e937a9f4473fa95b1caf1d1e1d62e29ea</td>\n",
       "      <td>--</td>\n",
       "      <td>// File: @openzeppelin/contracts/utils/Storage...</td>\n",
       "    </tr>\n",
       "    <tr>\n",
       "      <th>789</th>\n",
       "      <td>Wrapped Matic (Wormhole) (WMATIC)</td>\n",
       "      <td>0xc836d8dc361e44dbe64c4862d55ba041f88ddd39</td>\n",
       "      <td>--</td>\n",
       "      <td>// File: @openzeppelin/contracts/utils/Storage...</td>\n",
       "    </tr>\n",
       "    <tr>\n",
       "      <th>790</th>\n",
       "      <td>Wrapped Metrix (anyMRXb)</td>\n",
       "      <td>0x40642f7f80138913ca239306aa74f1acaef6b0e8</td>\n",
       "      <td>--</td>\n",
       "      <td>/**\\r\\n *Submitted for verification at snowtra...</td>\n",
       "    </tr>\n",
       "    <tr>\n",
       "      <th>791</th>\n",
       "      <td>Wrapped ROSE (Wormhole) (wROSE)</td>\n",
       "      <td>0x6c6d604d3f07abe287c1a3df0281e999a83495c0</td>\n",
       "      <td>--</td>\n",
       "      <td>// File: @openzeppelin/contracts/utils/Storage...</td>\n",
       "    </tr>\n",
       "    <tr>\n",
       "      <th>792</th>\n",
       "      <td>Xpose Protocol (XP)</td>\n",
       "      <td>0x6a0b045ea1cbc87946ee6ca4d118dc0b5c152455</td>\n",
       "      <td>--</td>\n",
       "      <td>{{\\r\\n  \"language\": \"Solidity\",\\r\\n  \"sources\"...</td>\n",
       "    </tr>\n",
       "    <tr>\n",
       "      <th>793</th>\n",
       "      <td>xSigma (anySIG)</td>\n",
       "      <td>0xc20ff003662d9b91b4139ffa6b7c9d69968bad2c</td>\n",
       "      <td>--</td>\n",
       "      <td>/**\\r\\n *Submitted for verification at BscScan...</td>\n",
       "    </tr>\n",
       "    <tr>\n",
       "      <th>794</th>\n",
       "      <td>YIN Finance (anyYIN)</td>\n",
       "      <td>0x0aCAaBC390D7D7134eef4166F61e3e30B362f675</td>\n",
       "      <td>--</td>\n",
       "      <td>/**\\r\\n *Submitted for verification at polygon...</td>\n",
       "    </tr>\n",
       "    <tr>\n",
       "      <th>795</th>\n",
       "      <td>Yoshi.exchange (anyYOSHI)</td>\n",
       "      <td>0x6c01361d8dbaf43b81b52da3efae7dab1b8fffe9</td>\n",
       "      <td>--</td>\n",
       "      <td>/**\\r\\n *Submitted for verification at BscScan...</td>\n",
       "    </tr>\n",
       "  </tbody>\n",
       "</table>\n",
       "</div>"
      ],
      "text/plain": [
       "                        bsc_Token_Name  \\\n",
       "786        Wraith Protocol (anyWRAITH)   \n",
       "787    Wrapped AVAX (Wormhole) (WAVAX)   \n",
       "788    Wrapped Ether (Wormhole) (WETH)   \n",
       "789  Wrapped Matic (Wormhole) (WMATIC)   \n",
       "790           Wrapped Metrix (anyMRXb)   \n",
       "791    Wrapped ROSE (Wormhole) (wROSE)   \n",
       "792                Xpose Protocol (XP)   \n",
       "793                    xSigma (anySIG)   \n",
       "794               YIN Finance (anyYIN)   \n",
       "795          Yoshi.exchange (anyYOSHI)   \n",
       "\n",
       "                                  Token_Address Token_Price  \\\n",
       "786  0x2630c7d2104b92721357b3735412ce647a28ed8a          --   \n",
       "787  0x96412902aa9aff61e13f085e70d3152c6ef2a817          --   \n",
       "788  0x4db5a66e937a9f4473fa95b1caf1d1e1d62e29ea          --   \n",
       "789  0xc836d8dc361e44dbe64c4862d55ba041f88ddd39          --   \n",
       "790  0x40642f7f80138913ca239306aa74f1acaef6b0e8          --   \n",
       "791  0x6c6d604d3f07abe287c1a3df0281e999a83495c0          --   \n",
       "792  0x6a0b045ea1cbc87946ee6ca4d118dc0b5c152455          --   \n",
       "793  0xc20ff003662d9b91b4139ffa6b7c9d69968bad2c          --   \n",
       "794  0x0aCAaBC390D7D7134eef4166F61e3e30B362f675          --   \n",
       "795  0x6c01361d8dbaf43b81b52da3efae7dab1b8fffe9          --   \n",
       "\n",
       "                                           Source_Code  \n",
       "786  /**\\r\\n *Submitted for verification at polygon...  \n",
       "787  // File: @openzeppelin/contracts/utils/Storage...  \n",
       "788  // File: @openzeppelin/contracts/utils/Storage...  \n",
       "789  // File: @openzeppelin/contracts/utils/Storage...  \n",
       "790  /**\\r\\n *Submitted for verification at snowtra...  \n",
       "791  // File: @openzeppelin/contracts/utils/Storage...  \n",
       "792  {{\\r\\n  \"language\": \"Solidity\",\\r\\n  \"sources\"...  \n",
       "793  /**\\r\\n *Submitted for verification at BscScan...  \n",
       "794  /**\\r\\n *Submitted for verification at polygon...  \n",
       "795  /**\\r\\n *Submitted for verification at BscScan...  "
      ]
     },
     "execution_count": 45,
     "metadata": {},
     "output_type": "execute_result"
    }
   ],
   "source": [
    "df_Bscscan_Token.tail(10)"
   ]
  },
  {
   "cell_type": "code",
   "execution_count": 46,
   "metadata": {},
   "outputs": [],
   "source": [
    "df_Bscscan_Token.to_csv(r'C:\\Users\\vasim\\Desktop\\immunebytes\\codes\\scrapping\\scrapped_smartcontracts\\bsctokendata.csv')"
   ]
  },
  {
   "cell_type": "code",
   "execution_count": null,
   "metadata": {},
   "outputs": [],
   "source": [
    "nwdf = pd.read_csv(\"df_Bscscan_Token.csv\")"
   ]
  },
  {
   "cell_type": "code",
   "execution_count": null,
   "metadata": {},
   "outputs": [],
   "source": [
    "nwdf.tail(10)"
   ]
  },
  {
   "cell_type": "code",
   "execution_count": null,
   "metadata": {},
   "outputs": [],
   "source": []
  }
 ],
 "metadata": {
  "kernelspec": {
   "display_name": "Python 3",
   "language": "python",
   "name": "python3"
  },
  "language_info": {
   "codemirror_mode": {
    "name": "ipython",
    "version": 3
   },
   "file_extension": ".py",
   "mimetype": "text/x-python",
   "name": "python",
   "nbconvert_exporter": "python",
   "pygments_lexer": "ipython3",
   "version": "3.8.5"
  }
 },
 "nbformat": 4,
 "nbformat_minor": 4
}
