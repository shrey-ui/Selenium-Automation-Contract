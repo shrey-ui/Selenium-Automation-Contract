{
 "cells": [
  {
   "cell_type": "markdown",
   "metadata": {},
   "source": [
    "#### Scraping Audited Contracts from Etherscan, PolygonScan, BSCscan"
   ]
  },
  {
   "cell_type": "markdown",
   "metadata": {},
   "source": [
    "#### etherscan"
   ]
  },
  {
   "cell_type": "code",
   "execution_count": 59,
   "metadata": {},
   "outputs": [],
   "source": [
    "import requests\n",
    "from bs4 import BeautifulSoup\n",
    "import pandas as pd"
   ]
  },
  {
   "cell_type": "code",
   "execution_count": 60,
   "metadata": {},
   "outputs": [],
   "source": [
    "addresses_etherscan=[]\n",
    "for i in range(1,21):\n",
    "    url = f\"https://etherscan.io/contractsVerified/{i}?filter=audit\"\n",
    "    headers = {\n",
    "        'User-Agent': '...',\n",
    "        'referer': 'https://...'\n",
    "    }\n",
    "    response = requests.get(url,headers = headers)\n",
    "    response = response.content\n",
    "    soup = BeautifulSoup(response, \"html.parser\")\n",
    "    table =  soup.find(\"table\")\n",
    "    spans = table.find_all(\"span\", class_= \"d-flex align-items-center gap-1\")\n",
    "\n",
    "    for span in spans:\n",
    "        link = span.find(\"a\")\n",
    "        title = link.attrs[\"title\"]\n",
    "        addresses_etherscan.append(title)\n"
   ]
  },
  {
   "cell_type": "code",
   "execution_count": 61,
   "metadata": {},
   "outputs": [
    {
     "name": "stdout",
     "output_type": "stream",
     "text": [
      "500\n"
     ]
    }
   ],
   "source": [
    "print(len(addresses_etherscan))"
   ]
  },
  {
   "cell_type": "markdown",
   "metadata": {},
   "source": [
    "#### polygonscan"
   ]
  },
  {
   "cell_type": "code",
   "execution_count": 62,
   "metadata": {},
   "outputs": [
    {
     "name": "stdout",
     "output_type": "stream",
     "text": [
      "24\n"
     ]
    }
   ],
   "source": [
    "\n",
    "addresses_polygon = []\n",
    "url = \"https://polygonscan.com/contractsVerified/?filter=audit\"\n",
    "headers = {\n",
    "    'User-Agent': '...',\n",
    "    'referer': 'https://...'\n",
    "}\n",
    "response = requests.get(url,headers = headers)\n",
    "response = response.content\n",
    "soup = BeautifulSoup(response, \"html.parser\")\n",
    "table =  soup.find(\"table\")\n",
    "spans = table.find_all(\"a\", class_= \"hash-tag text-truncate\")\n",
    "for span in spans:\n",
    "    title = span.attrs[\"title\"]\n",
    "    addresses_polygon.append(title)\n",
    "\n",
    "print(len(addresses_polygon))"
   ]
  },
  {
   "cell_type": "markdown",
   "metadata": {},
   "source": [
    "#### bsc"
   ]
  },
  {
   "cell_type": "code",
   "execution_count": 63,
   "metadata": {},
   "outputs": [
    {
     "name": "stdout",
     "output_type": "stream",
     "text": [
      "500\n"
     ]
    }
   ],
   "source": [
    "bsc_addresses = []\n",
    "for i in range(1,21):\n",
    "    url = f\"https://bscscan.com/contractsVerified/{i}?filter=audit\"\n",
    "    headers = {\n",
    "        'User-Agent': '...',\n",
    "        'referer': 'https://...'\n",
    "    }\n",
    "    response = requests.get(url,headers = headers)\n",
    "    response = response.content\n",
    "    soup = BeautifulSoup(response, \"html.parser\")\n",
    "    table =  soup.find(\"table\")\n",
    "    spans = table.find_all(\"a\", class_= \"hash-tag text-truncate\")\n",
    "    for span in spans:\n",
    "        title = span.attrs[\"title\"]\n",
    "        bsc_addresses.append(title)\n",
    "\n",
    "print(len(bsc_addresses))"
   ]
  },
  {
   "cell_type": "markdown",
   "metadata": {},
   "source": [
    "#####  Extracting address from tokens(etherscan) "
   ]
  },
  {
   "cell_type": "code",
   "execution_count": 65,
   "metadata": {
    "scrolled": true
   },
   "outputs": [
    {
     "name": "stdout",
     "output_type": "stream",
     "text": [
      "(1144, 3)\n"
     ]
    },
    {
     "data": {
      "text/html": [
       "<div>\n",
       "<style scoped>\n",
       "    .dataframe tbody tr th:only-of-type {\n",
       "        vertical-align: middle;\n",
       "    }\n",
       "\n",
       "    .dataframe tbody tr th {\n",
       "        vertical-align: top;\n",
       "    }\n",
       "\n",
       "    .dataframe thead th {\n",
       "        text-align: right;\n",
       "    }\n",
       "</style>\n",
       "<table border=\"1\" class=\"dataframe\">\n",
       "  <thead>\n",
       "    <tr style=\"text-align: right;\">\n",
       "      <th></th>\n",
       "      <th>Etherscan_Token_Name</th>\n",
       "      <th>Token_Address</th>\n",
       "      <th>Token_Price</th>\n",
       "    </tr>\n",
       "  </thead>\n",
       "  <tbody>\n",
       "    <tr>\n",
       "      <th>0</th>\n",
       "      <td>Tether USD</td>\n",
       "      <td>0xdac17f958d2ee523a2206206994597c13d831ec7</td>\n",
       "      <td>$70,424,308,060.00</td>\n",
       "    </tr>\n",
       "    <tr>\n",
       "      <th>1</th>\n",
       "      <td>BNB</td>\n",
       "      <td>0xB8c77482e45F1F44dE1745F52C74426C631bDD52</td>\n",
       "      <td>$49,857,978,296.00</td>\n",
       "    </tr>\n",
       "    <tr>\n",
       "      <th>2</th>\n",
       "      <td>USD Coin</td>\n",
       "      <td>0xa0b86991c6218b36c1d19d4a2e9eb0ce3606eb48</td>\n",
       "      <td>$41,923,375,487.00</td>\n",
       "    </tr>\n",
       "    <tr>\n",
       "      <th>3</th>\n",
       "      <td>OKB</td>\n",
       "      <td>0x75231f58b43240c9718dd58b4967c5114342a86c</td>\n",
       "      <td>$13,094,667,620.00</td>\n",
       "    </tr>\n",
       "    <tr>\n",
       "      <th>4</th>\n",
       "      <td>Matic Token</td>\n",
       "      <td>0x7d1afa7b718fb893db30a3abc0cfc608aacfebb0</td>\n",
       "      <td>$12,832,299,469.00</td>\n",
       "    </tr>\n",
       "    <tr>\n",
       "      <th>5</th>\n",
       "      <td>Binance USD</td>\n",
       "      <td>0x4fabb145d64652a948d72533023f6e7a623c7c53</td>\n",
       "      <td>$12,799,256,432.00</td>\n",
       "    </tr>\n",
       "    <tr>\n",
       "      <th>6</th>\n",
       "      <td>HEX</td>\n",
       "      <td>0x2b591e99afe9f32eaa6214f7b7629768c40eeb39</td>\n",
       "      <td>$11,270,777,197.00</td>\n",
       "    </tr>\n",
       "    <tr>\n",
       "      <th>7</th>\n",
       "      <td>stETH</td>\n",
       "      <td>0xae7ab96520de3a18e5e111b5eaab095312d7fe84</td>\n",
       "      <td>$8,797,551,242.00</td>\n",
       "    </tr>\n",
       "    <tr>\n",
       "      <th>8</th>\n",
       "      <td>SHIBA INU</td>\n",
       "      <td>0x95aD61b0a150d79219dCF64E1E6Cc01f0B64C4cE</td>\n",
       "      <td>$7,978,255,179.00</td>\n",
       "    </tr>\n",
       "    <tr>\n",
       "      <th>9</th>\n",
       "      <td>ANY Litecoin</td>\n",
       "      <td>0x0abcfbfa8e3fda8b7fba18721caf7d5cf55cf5f5</td>\n",
       "      <td>$6,922,453,649.00</td>\n",
       "    </tr>\n",
       "  </tbody>\n",
       "</table>\n",
       "</div>"
      ],
      "text/plain": [
       "  Etherscan_Token_Name                               Token_Address  \\\n",
       "0           Tether USD  0xdac17f958d2ee523a2206206994597c13d831ec7   \n",
       "1                  BNB  0xB8c77482e45F1F44dE1745F52C74426C631bDD52   \n",
       "2             USD Coin  0xa0b86991c6218b36c1d19d4a2e9eb0ce3606eb48   \n",
       "3                  OKB  0x75231f58b43240c9718dd58b4967c5114342a86c   \n",
       "4          Matic Token  0x7d1afa7b718fb893db30a3abc0cfc608aacfebb0   \n",
       "5          Binance USD  0x4fabb145d64652a948d72533023f6e7a623c7c53   \n",
       "6                  HEX  0x2b591e99afe9f32eaa6214f7b7629768c40eeb39   \n",
       "7                stETH  0xae7ab96520de3a18e5e111b5eaab095312d7fe84   \n",
       "8            SHIBA INU  0x95aD61b0a150d79219dCF64E1E6Cc01f0B64C4cE   \n",
       "9         ANY Litecoin  0x0abcfbfa8e3fda8b7fba18721caf7d5cf55cf5f5   \n",
       "\n",
       "          Token_Price  \n",
       "0  $70,424,308,060.00  \n",
       "1  $49,857,978,296.00  \n",
       "2  $41,923,375,487.00  \n",
       "3  $13,094,667,620.00  \n",
       "4  $12,832,299,469.00  \n",
       "5  $12,799,256,432.00  \n",
       "6  $11,270,777,197.00  \n",
       "7   $8,797,551,242.00  \n",
       "8   $7,978,255,179.00  \n",
       "9   $6,922,453,649.00  "
      ]
     },
     "execution_count": 65,
     "metadata": {},
     "output_type": "execute_result"
    }
   ],
   "source": [
    "token_addresses_etherscan = []\n",
    "token_name_etherscan = []\n",
    "token_usd_etherscan = []\n",
    "for i in range(1,24):\n",
    "    url = f\"https://etherscan.io/tokens?p={i}\"\n",
    "    headers = {\n",
    "        'User-Agent': '...',\n",
    "        'referer': 'https://...'\n",
    "    }\n",
    "    response = requests.get(url,headers = headers)\n",
    "    response = response.content\n",
    "    soup = BeautifulSoup(response, \"html.parser\")\n",
    "    table =  soup.find(\"table\")\n",
    "    \n",
    "    #to get the usd value of the token\n",
    "    rows = table.find_all(\"tr\")\n",
    "    for row in rows[1:]:\n",
    "        columns = row.find_all(\"td\") #change len(columns)>6\n",
    "        token_name_etherscan.append(columns[1].find('div', class_= 'hash-tag').text.strip())\n",
    "        href= (columns[1].find(\"a\", class_= \"d-flex align-items-center gap-1 link-dark\", href= True)['href'])\n",
    "        token_addresses_etherscan.append(href.split('/')[-1])\n",
    "        usd_value = columns[5].text.strip() #circulating marketing cap is in 5th index(td)\n",
    "        token_usd_etherscan.append(usd_value)\n",
    "\n",
    "\n",
    "#converting to dataframe\n",
    "df_etherscan_tok = pd.DataFrame({'Etherscan_Token_Name': token_name_etherscan,\n",
    "                   'Token_Address': token_addresses_etherscan,\n",
    "                   'Token_Price': token_usd_etherscan})\n",
    "print(df_etherscan_tok.shape)\n",
    "df_etherscan_tok.head(10)"
   ]
  },
  {
   "cell_type": "markdown",
   "metadata": {},
   "source": [
    "#### Scraping BEP_20 Tokens"
   ]
  },
  {
   "cell_type": "code",
   "execution_count": 66,
   "metadata": {},
   "outputs": [
    {
     "name": "stdout",
     "output_type": "stream",
     "text": [
      "(796, 3)\n"
     ]
    },
    {
     "data": {
      "text/html": [
       "<div>\n",
       "<style scoped>\n",
       "    .dataframe tbody tr th:only-of-type {\n",
       "        vertical-align: middle;\n",
       "    }\n",
       "\n",
       "    .dataframe tbody tr th {\n",
       "        vertical-align: top;\n",
       "    }\n",
       "\n",
       "    .dataframe thead th {\n",
       "        text-align: right;\n",
       "    }\n",
       "</style>\n",
       "<table border=\"1\" class=\"dataframe\">\n",
       "  <thead>\n",
       "    <tr style=\"text-align: right;\">\n",
       "      <th></th>\n",
       "      <th>bsc_Token_Name</th>\n",
       "      <th>Token_Address</th>\n",
       "      <th>Token_Price</th>\n",
       "    </tr>\n",
       "  </thead>\n",
       "  <tbody>\n",
       "    <tr>\n",
       "      <th>0</th>\n",
       "      <td>Binance-Peg Ethereum Token (ETH)</td>\n",
       "      <td>0x2170ed0880ac9a755fd29b2688956bd959f933f8</td>\n",
       "      <td>$208,082,744,875.00</td>\n",
       "    </tr>\n",
       "    <tr>\n",
       "      <th>1</th>\n",
       "      <td>Binance-Peg BSC-USD (BSC-USD)</td>\n",
       "      <td>0x55d398326f99059ff775485246999027b3197955</td>\n",
       "      <td>$70,394,919,623.00</td>\n",
       "    </tr>\n",
       "    <tr>\n",
       "      <th>2</th>\n",
       "      <td>Wrapped BNB (WBNB)</td>\n",
       "      <td>0xbb4CdB9CBd36B01bD1cBaEBF2De08d9173bc095c</td>\n",
       "      <td>$49,843,215,439.00</td>\n",
       "    </tr>\n",
       "    <tr>\n",
       "      <th>3</th>\n",
       "      <td>Binance-Peg USD Coin (USDC)</td>\n",
       "      <td>0x8ac76a51cc950d9822d68b83fe1ad97b32cd580d</td>\n",
       "      <td>$41,927,075,666.00</td>\n",
       "    </tr>\n",
       "    <tr>\n",
       "      <th>4</th>\n",
       "      <td>USDC (anyUSDC)</td>\n",
       "      <td>0x8965349fb649a33a30cbfda057d8ec2c48abe2a2</td>\n",
       "      <td>$41,927,075,666.00</td>\n",
       "    </tr>\n",
       "    <tr>\n",
       "      <th>5</th>\n",
       "      <td>Binance-Peg XRP Token (XRP)</td>\n",
       "      <td>0x1d2f0da169ceb9fc7b3144628db156f3f6c60dbe</td>\n",
       "      <td>$20,255,839,831.00</td>\n",
       "    </tr>\n",
       "    <tr>\n",
       "      <th>6</th>\n",
       "      <td>Binance-Peg Cardano Token (ADA)</td>\n",
       "      <td>0x3ee2200efb3400fabb9aacf31297cbdd1d435d47</td>\n",
       "      <td>$13,970,459,392.00</td>\n",
       "    </tr>\n",
       "    <tr>\n",
       "      <th>7</th>\n",
       "      <td>Matic Token (MATIC)</td>\n",
       "      <td>0xcc42724c6683b7e57334c4e856f4c9965ed682bd</td>\n",
       "      <td>$13,218,467,489.00</td>\n",
       "    </tr>\n",
       "    <tr>\n",
       "      <th>8</th>\n",
       "      <td>Binance-Peg BUSD Token (BUSD)</td>\n",
       "      <td>0xe9e7cea3dedca5984780bafc599bd69add087d56</td>\n",
       "      <td>$12,804,495,908.00</td>\n",
       "    </tr>\n",
       "    <tr>\n",
       "      <th>9</th>\n",
       "      <td>Binance-Peg Dogecoin Token (DOGE)</td>\n",
       "      <td>0xba2ae424d960c26247dd6c32edc70b295c744c43</td>\n",
       "      <td>$11,671,069,633.00</td>\n",
       "    </tr>\n",
       "  </tbody>\n",
       "</table>\n",
       "</div>"
      ],
      "text/plain": [
       "                      bsc_Token_Name  \\\n",
       "0   Binance-Peg Ethereum Token (ETH)   \n",
       "1      Binance-Peg BSC-USD (BSC-USD)   \n",
       "2                 Wrapped BNB (WBNB)   \n",
       "3        Binance-Peg USD Coin (USDC)   \n",
       "4                     USDC (anyUSDC)   \n",
       "5        Binance-Peg XRP Token (XRP)   \n",
       "6    Binance-Peg Cardano Token (ADA)   \n",
       "7                Matic Token (MATIC)   \n",
       "8      Binance-Peg BUSD Token (BUSD)   \n",
       "9  Binance-Peg Dogecoin Token (DOGE)   \n",
       "\n",
       "                                Token_Address          Token_Price  \n",
       "0  0x2170ed0880ac9a755fd29b2688956bd959f933f8  $208,082,744,875.00  \n",
       "1  0x55d398326f99059ff775485246999027b3197955   $70,394,919,623.00  \n",
       "2  0xbb4CdB9CBd36B01bD1cBaEBF2De08d9173bc095c   $49,843,215,439.00  \n",
       "3  0x8ac76a51cc950d9822d68b83fe1ad97b32cd580d   $41,927,075,666.00  \n",
       "4  0x8965349fb649a33a30cbfda057d8ec2c48abe2a2   $41,927,075,666.00  \n",
       "5  0x1d2f0da169ceb9fc7b3144628db156f3f6c60dbe   $20,255,839,831.00  \n",
       "6  0x3ee2200efb3400fabb9aacf31297cbdd1d435d47   $13,970,459,392.00  \n",
       "7  0xcc42724c6683b7e57334c4e856f4c9965ed682bd   $13,218,467,489.00  \n",
       "8  0xe9e7cea3dedca5984780bafc599bd69add087d56   $12,804,495,908.00  \n",
       "9  0xba2ae424d960c26247dd6c32edc70b295c744c43   $11,671,069,633.00  "
      ]
     },
     "execution_count": 66,
     "metadata": {},
     "output_type": "execute_result"
    }
   ],
   "source": [
    "token_addresses_bsc_bep_20 = []\n",
    "token_name_bsc = []\n",
    "token_usd_bsc = []\n",
    "\n",
    "for i in range(1,17):\n",
    "    url = f\"https://bscscan.com/tokens?p={i}\"\n",
    "    headers = {\n",
    "        'User-Agent': '...',\n",
    "        'referer': 'https://...'\n",
    "    }\n",
    "    response = requests.get(url,headers = headers)\n",
    "    response = response.content\n",
    "    soup = BeautifulSoup(response, \"html.parser\")\n",
    "    table =  soup.find(\"table\")\n",
    "    \n",
    "    rows = table.find_all(\"tr\")\n",
    "    for row in rows[1:]:\n",
    "        columns = row.find_all(\"td\")\n",
    "        token_name_bsc.append(columns[1].find('a', class_= 'text-primary', href= True).text.strip())\n",
    "        href= (columns[1].find('a', class_= 'text-primary', href= True)['href'])\n",
    "        token_addresses_bsc_bep_20.append(href.split('/')[-1])\n",
    "        usd_value = columns[5].text.strip()\n",
    "        token_usd_bsc.append(usd_value)\n",
    "            \n",
    "df_bsc_tok = pd.DataFrame({'bsc_Token_Name': token_name_bsc,\n",
    "                   'Token_Address': token_addresses_bsc_bep_20,\n",
    "                   'Token_Price': token_usd_bsc})\n",
    "\n",
    "print(df_bsc_tok.shape)\n",
    "df_bsc_tok.head(10)\n"
   ]
  },
  {
   "cell_type": "markdown",
   "metadata": {},
   "source": [
    "#### Duplicate checking "
   ]
  },
  {
   "cell_type": "code",
   "execution_count": 67,
   "metadata": {},
   "outputs": [
    {
     "data": {
      "text/plain": [
       "['0x6c43751fef27c956f7e75d5c345a65df1465f7e0',\n",
       " '0x1111111254fb6c44bAC0beD2854e76F90643097d',\n",
       " '0x11111112542d85b3ef69ae05771c2dccff4faa26',\n",
       " '0x9798dF2f5d213a872c787bD03b2b91F54D0D04A1']"
      ]
     },
     "execution_count": 67,
     "metadata": {},
     "output_type": "execute_result"
    }
   ],
   "source": [
    "def comp(l1, l2):\n",
    "    same = []\n",
    "    for val in l1:\n",
    "        if val in l2:\n",
    "            same.append(val)\n",
    "    return same\n",
    "\n",
    "comp(addresses_etherscan, bsc_addresses)"
   ]
  },
  {
   "cell_type": "code",
   "execution_count": 68,
   "metadata": {},
   "outputs": [
    {
     "data": {
      "text/plain": [
       "['0x6c43751fef27c956f7e75d5c345a65df1465f7e0',\n",
       " '0x1111111254fb6c44bAC0beD2854e76F90643097d',\n",
       " '0x11111112542d85b3ef69ae05771c2dccff4faa26',\n",
       " '0x9798dF2f5d213a872c787bD03b2b91F54D0D04A1']"
      ]
     },
     "execution_count": 68,
     "metadata": {},
     "output_type": "execute_result"
    }
   ],
   "source": [
    "comp(addresses_etherscan, bsc_addresses)"
   ]
  },
  {
   "cell_type": "code",
   "execution_count": 69,
   "metadata": {},
   "outputs": [
    {
     "data": {
      "text/plain": [
       "[]"
      ]
     },
     "execution_count": 69,
     "metadata": {},
     "output_type": "execute_result"
    }
   ],
   "source": [
    "unique_bsc_addresses =  [x for x in bsc_addresses if x not in addresses_etherscan]\n",
    "comp(unique_bsc_addresses, addresses_etherscan)"
   ]
  },
  {
   "cell_type": "code",
   "execution_count": 70,
   "metadata": {},
   "outputs": [
    {
     "data": {
      "text/plain": [
       "['0x4fc15c91a9c4a9efb404174464687e8e128730c2',\n",
       " '0x3be7bf1a5f23bd8336787d0289b70602f1940875',\n",
       " '0xe0c05ec44775e4ad62cdc2eecdf337aa7a143363',\n",
       " '0xD2e5decc08A80be6538F89f9AB8ff296e2f724Df',\n",
       " '0x5ba19d656b65f1684cfea4af428c23b9f3628f97',\n",
       " '0xe0df31d06d72b2f5231489af0edc422b372f49f1',\n",
       " '0xb31ef9e52d94d4120eb44fe1ddfde5b4654a6515',\n",
       " '0xa5ef74068d04ba0809b7379dd76af5ce34ab7c57',\n",
       " '0x9b99cca871be05119b2012fd4474731dd653febe',\n",
       " '0x9fa69536d1cda4a04cfb50688294de75b505a9ae',\n",
       " '0x41a3dba3d677e573636ba691a70ff2d606c29666',\n",
       " '0x50f09629d0afdf40398a3f317cc676ca9132055c',\n",
       " '0xaaa7a10a8ee237ea61e8ac46c50a8db8bcc1baaa',\n",
       " '0x0c572544a4ee47904d54aaa6a970af96b6f00e1b',\n",
       " '0xf6650117017ffd48b725b4ec5a00b414097108a7',\n",
       " '0x15b543e986b8c34074dfc9901136d9355a537e7e',\n",
       " '0xc834fa996fa3bec7aad3693af486ae53d8aa8b50',\n",
       " '0x29cbd0510eec0327992cd6006e63f9fa8e7f33b7',\n",
       " '0x14da7b27b2e0fedefe0a664118b0c9bc68e2e9af',\n",
       " '0x377d552914e7a104bc22b4f3b6268ddc69615be7',\n",
       " '0x0cdf9acd87e940837ff21bb40c9fd55f68bba059',\n",
       " '0x69af81e73a73b40adf4f3d4223cd9b1ece623074',\n",
       " '0x389999216860ab8e0175387a0c90e5c52522c945',\n",
       " '0xa9b1eb5908cfc3cdf91f9b8b3a74108598009096',\n",
       " '0x8fc8f8269ebca376d046ce292dc7eac40c8d358a',\n",
       " '0x0f51bb10119727a7e5ea3538074fb341f56b09ad',\n",
       " '0x2791bfd60d232150bff86b39b7146c0eaaa2ba81',\n",
       " '0xffffffff2ba8f66d4e51811c5190992176930278',\n",
       " '0x111111111117dc0aa78b770fa6a738034120c302',\n",
       " '0x66a0f676479Cee1d7373f3DC2e2952778BfF5bd6',\n",
       " '0x9b02dd390a603add5c07f9fd9175b7dabe8d63b7',\n",
       " '0xae1eaae3f627aaca434127644371b67b18444051',\n",
       " '0x7d5121505149065b562c789a0145ed750e6e8cdd',\n",
       " '0xbbff34e47e559ef680067a6b1c980639eeb64d24',\n",
       " '0xde4EE8057785A7e8e800Db58F9784845A5C2Cbd6',\n",
       " '0xaea46A60368A7bD060eec7DF8CBa43b7EF41Ad85',\n",
       " '0x5218E472cFCFE0b64A064F055B43b4cdC9EfD3A6',\n",
       " '0xf8C3527CC04340b208C854E985240c02F7B7793f',\n",
       " '0xb81d70802a816b5dacba06d708b5acf19dcd436d']"
      ]
     },
     "execution_count": 70,
     "metadata": {},
     "output_type": "execute_result"
    }
   ],
   "source": [
    "comp(addresses_etherscan, token_addresses_etherscan)"
   ]
  },
  {
   "cell_type": "code",
   "execution_count": 71,
   "metadata": {},
   "outputs": [
    {
     "data": {
      "text/plain": [
       "['0x4fc15c91a9c4a9efb404174464687e8e128730c2',\n",
       " '0x3be7bf1a5f23bd8336787d0289b70602f1940875',\n",
       " '0xe0c05ec44775e4ad62cdc2eecdf337aa7a143363',\n",
       " '0xD2e5decc08A80be6538F89f9AB8ff296e2f724Df',\n",
       " '0x5ba19d656b65f1684cfea4af428c23b9f3628f97',\n",
       " '0xe0df31d06d72b2f5231489af0edc422b372f49f1',\n",
       " '0xb31ef9e52d94d4120eb44fe1ddfde5b4654a6515',\n",
       " '0xa5ef74068d04ba0809b7379dd76af5ce34ab7c57',\n",
       " '0x9b99cca871be05119b2012fd4474731dd653febe',\n",
       " '0x9fa69536d1cda4a04cfb50688294de75b505a9ae',\n",
       " '0x41a3dba3d677e573636ba691a70ff2d606c29666',\n",
       " '0x50f09629d0afdf40398a3f317cc676ca9132055c',\n",
       " '0xaaa7a10a8ee237ea61e8ac46c50a8db8bcc1baaa',\n",
       " '0x0c572544a4ee47904d54aaa6a970af96b6f00e1b',\n",
       " '0xf6650117017ffd48b725b4ec5a00b414097108a7',\n",
       " '0x15b543e986b8c34074dfc9901136d9355a537e7e',\n",
       " '0xc834fa996fa3bec7aad3693af486ae53d8aa8b50',\n",
       " '0x29cbd0510eec0327992cd6006e63f9fa8e7f33b7',\n",
       " '0x14da7b27b2e0fedefe0a664118b0c9bc68e2e9af',\n",
       " '0x377d552914e7a104bc22b4f3b6268ddc69615be7',\n",
       " '0x0cdf9acd87e940837ff21bb40c9fd55f68bba059',\n",
       " '0x69af81e73a73b40adf4f3d4223cd9b1ece623074',\n",
       " '0x389999216860ab8e0175387a0c90e5c52522c945',\n",
       " '0xa9b1eb5908cfc3cdf91f9b8b3a74108598009096',\n",
       " '0x8fc8f8269ebca376d046ce292dc7eac40c8d358a',\n",
       " '0x0f51bb10119727a7e5ea3538074fb341f56b09ad',\n",
       " '0x2791bfd60d232150bff86b39b7146c0eaaa2ba81',\n",
       " '0xffffffff2ba8f66d4e51811c5190992176930278',\n",
       " '0x111111111117dc0aa78b770fa6a738034120c302',\n",
       " '0x66a0f676479Cee1d7373f3DC2e2952778BfF5bd6',\n",
       " '0x9b02dd390a603add5c07f9fd9175b7dabe8d63b7',\n",
       " '0xae1eaae3f627aaca434127644371b67b18444051',\n",
       " '0x7d5121505149065b562c789a0145ed750e6e8cdd',\n",
       " '0xbbff34e47e559ef680067a6b1c980639eeb64d24',\n",
       " '0xde4EE8057785A7e8e800Db58F9784845A5C2Cbd6',\n",
       " '0xaea46A60368A7bD060eec7DF8CBa43b7EF41Ad85',\n",
       " '0x5218E472cFCFE0b64A064F055B43b4cdC9EfD3A6',\n",
       " '0xf8C3527CC04340b208C854E985240c02F7B7793f',\n",
       " '0xb81d70802a816b5dacba06d708b5acf19dcd436d']"
      ]
     },
     "execution_count": 71,
     "metadata": {},
     "output_type": "execute_result"
    }
   ],
   "source": [
    "addresses_to_remove_from_addresses_etherscan = comp(addresses_etherscan,token_addresses_etherscan)\n",
    "addresses_to_remove_from_addresses_etherscan"
   ]
  },
  {
   "cell_type": "code",
   "execution_count": 72,
   "metadata": {},
   "outputs": [
    {
     "data": {
      "text/plain": [
       "[]"
      ]
     },
     "execution_count": 72,
     "metadata": {},
     "output_type": "execute_result"
    }
   ],
   "source": [
    "unique_etherscan_addresses =  [x for x in addresses_etherscan if x not in token_addresses_etherscan]\n",
    "comp(unique_etherscan_addresses, token_addresses_etherscan)"
   ]
  },
  {
   "cell_type": "code",
   "execution_count": 73,
   "metadata": {},
   "outputs": [
    {
     "data": {
      "text/plain": [
       "['0x5711f19b7b21938d31d07e5736b4660c1159d7d3',\n",
       " '0x0475AE77fb55005F15554642d6016c75FD04227A',\n",
       " '0x9c4a515cd72d27a4710571aca94858a53d9278d5',\n",
       " '0xb25583E5e2dB32b7FCbffe3f5e8E305C36157E54',\n",
       " '0xC17c30e98541188614dF99239cABD40280810cA3',\n",
       " '0x7d38315b92d0E7A85B35B2b7FE969B25935619D7',\n",
       " '0x9131066022B909C65eDD1aaf7fF213dACF4E86d0',\n",
       " '0x6e4a971b81ca58045a2aa982eaa3d50c4ac38f42',\n",
       " '0xce186ad6430e2fe494a22c9edbd4c68794a28b35',\n",
       " '0xc75aa1fa199eac5adabc832ea4522cff6dfd521a',\n",
       " '0x6cf271270662be1c4fc1b7bb7d7d7fc60cc19125',\n",
       " '0xeB84be66c8E71f07eA57Cf3b21626d7784F32A7F',\n",
       " '0x9D4451151A8dE5B545a1bC6c8fdEB9d94a2868e1',\n",
       " '0x6067490d05f3cf2fdffc0e353b1f5fd6e5ccdf70',\n",
       " '0x01E0d17a533E5930A349C2BB71304F04F20AB12B',\n",
       " '0x68b5edb385b59e30a7a7db1e681a449e94df0213',\n",
       " '0x46d502fac9aea7c5bc7b13c8ec9d02378c33d36f',\n",
       " '0x56aa0237244c67b9a854b4efe8479cca0b105289',\n",
       " '0xae2df9f730c54400934c06a17462c41c08a06ed8',\n",
       " '0x2A9718defF471f3Bb91FA0ECEAB14154F150a385',\n",
       " '0xc9849e6fdb743d08faee3e34dd2d1bc69ea11a51']"
      ]
     },
     "execution_count": 73,
     "metadata": {},
     "output_type": "execute_result"
    }
   ],
   "source": [
    "comp(unique_bsc_addresses,token_addresses_bsc_bep_20)"
   ]
  },
  {
   "cell_type": "code",
   "execution_count": 74,
   "metadata": {},
   "outputs": [
    {
     "data": {
      "text/plain": [
       "['0x5711f19b7b21938d31d07e5736b4660c1159d7d3',\n",
       " '0x0475AE77fb55005F15554642d6016c75FD04227A',\n",
       " '0x9c4a515cd72d27a4710571aca94858a53d9278d5',\n",
       " '0xb25583E5e2dB32b7FCbffe3f5e8E305C36157E54',\n",
       " '0xC17c30e98541188614dF99239cABD40280810cA3',\n",
       " '0x7d38315b92d0E7A85B35B2b7FE969B25935619D7',\n",
       " '0x9131066022B909C65eDD1aaf7fF213dACF4E86d0',\n",
       " '0x6e4a971b81ca58045a2aa982eaa3d50c4ac38f42',\n",
       " '0xce186ad6430e2fe494a22c9edbd4c68794a28b35',\n",
       " '0xc75aa1fa199eac5adabc832ea4522cff6dfd521a',\n",
       " '0x6cf271270662be1c4fc1b7bb7d7d7fc60cc19125',\n",
       " '0xeB84be66c8E71f07eA57Cf3b21626d7784F32A7F',\n",
       " '0x9D4451151A8dE5B545a1bC6c8fdEB9d94a2868e1',\n",
       " '0x6067490d05f3cf2fdffc0e353b1f5fd6e5ccdf70',\n",
       " '0x01E0d17a533E5930A349C2BB71304F04F20AB12B',\n",
       " '0x68b5edb385b59e30a7a7db1e681a449e94df0213',\n",
       " '0x46d502fac9aea7c5bc7b13c8ec9d02378c33d36f',\n",
       " '0x56aa0237244c67b9a854b4efe8479cca0b105289',\n",
       " '0xae2df9f730c54400934c06a17462c41c08a06ed8',\n",
       " '0x2A9718defF471f3Bb91FA0ECEAB14154F150a385',\n",
       " '0xc9849e6fdb743d08faee3e34dd2d1bc69ea11a51']"
      ]
     },
     "execution_count": 74,
     "metadata": {},
     "output_type": "execute_result"
    }
   ],
   "source": [
    "# List of Token Addresses to be removed\n",
    "addresses_to_remove_from_addresses_unique_bsc_addresses = comp(unique_bsc_addresses,token_addresses_bsc_bep_20)\n",
    "addresses_to_remove_from_addresses_unique_bsc_addresses"
   ]
  },
  {
   "cell_type": "code",
   "execution_count": 75,
   "metadata": {},
   "outputs": [
    {
     "data": {
      "text/plain": [
       "[]"
      ]
     },
     "execution_count": 75,
     "metadata": {},
     "output_type": "execute_result"
    }
   ],
   "source": [
    "# unique_etherscan_addresses =  [x for x in addresses_etherscan if x not in token_addresses_etherscan]\n",
    "# comp(unique_etherscan_addresses, token_addresses_etherscan)\n",
    "unique_bsc_addresses =  [x for x in unique_bsc_addresses if x not in token_addresses_bsc_bep_20]\n",
    "comp(unique_bsc_addresses, token_addresses_bsc_bep_20)"
   ]
  },
  {
   "cell_type": "code",
   "execution_count": 83,
   "metadata": {},
   "outputs": [
    {
     "name": "stdout",
     "output_type": "stream",
     "text": [
      "1144\n",
      "796\n",
      "461\n",
      "475\n",
      "24\n"
     ]
    }
   ],
   "source": [
    "print(len(token_addresses_etherscan))\n",
    "print(len(token_addresses_bsc_bep_20))\n",
    "print(len(unique_etherscan_addresses))\n",
    "print(len(unique_bsc_addresses))\n",
    "print(len(addresses_polygon))"
   ]
  },
  {
   "cell_type": "code",
   "execution_count": 93,
   "metadata": {},
   "outputs": [
    {
     "data": {
      "text/html": [
       "<div>\n",
       "<style scoped>\n",
       "    .dataframe tbody tr th:only-of-type {\n",
       "        vertical-align: middle;\n",
       "    }\n",
       "\n",
       "    .dataframe tbody tr th {\n",
       "        vertical-align: top;\n",
       "    }\n",
       "\n",
       "    .dataframe thead th {\n",
       "        text-align: right;\n",
       "    }\n",
       "</style>\n",
       "<table border=\"1\" class=\"dataframe\">\n",
       "  <thead>\n",
       "    <tr style=\"text-align: right;\">\n",
       "      <th></th>\n",
       "      <th>bsc_Token_Name</th>\n",
       "      <th>Token_Address</th>\n",
       "      <th>Token_Price</th>\n",
       "    </tr>\n",
       "  </thead>\n",
       "  <tbody>\n",
       "    <tr>\n",
       "      <th>0</th>\n",
       "      <td>Binance-Peg Ethereum Token (ETH)</td>\n",
       "      <td>0x2170ed0880ac9a755fd29b2688956bd959f933f8</td>\n",
       "      <td>$208,082,744,875.00</td>\n",
       "    </tr>\n",
       "    <tr>\n",
       "      <th>1</th>\n",
       "      <td>Binance-Peg BSC-USD (BSC-USD)</td>\n",
       "      <td>0x55d398326f99059ff775485246999027b3197955</td>\n",
       "      <td>$70,394,919,623.00</td>\n",
       "    </tr>\n",
       "    <tr>\n",
       "      <th>2</th>\n",
       "      <td>Wrapped BNB (WBNB)</td>\n",
       "      <td>0xbb4CdB9CBd36B01bD1cBaEBF2De08d9173bc095c</td>\n",
       "      <td>$49,843,215,439.00</td>\n",
       "    </tr>\n",
       "    <tr>\n",
       "      <th>3</th>\n",
       "      <td>Binance-Peg USD Coin (USDC)</td>\n",
       "      <td>0x8ac76a51cc950d9822d68b83fe1ad97b32cd580d</td>\n",
       "      <td>$41,927,075,666.00</td>\n",
       "    </tr>\n",
       "    <tr>\n",
       "      <th>4</th>\n",
       "      <td>USDC (anyUSDC)</td>\n",
       "      <td>0x8965349fb649a33a30cbfda057d8ec2c48abe2a2</td>\n",
       "      <td>$41,927,075,666.00</td>\n",
       "    </tr>\n",
       "    <tr>\n",
       "      <th>...</th>\n",
       "      <td>...</td>\n",
       "      <td>...</td>\n",
       "      <td>...</td>\n",
       "    </tr>\n",
       "    <tr>\n",
       "      <th>791</th>\n",
       "      <td>Wrapped ROSE (Wormhole) (wROSE)</td>\n",
       "      <td>0x6c6d604d3f07abe287c1a3df0281e999a83495c0</td>\n",
       "      <td>--</td>\n",
       "    </tr>\n",
       "    <tr>\n",
       "      <th>792</th>\n",
       "      <td>Xpose Protocol (XP)</td>\n",
       "      <td>0x6a0b045ea1cbc87946ee6ca4d118dc0b5c152455</td>\n",
       "      <td>--</td>\n",
       "    </tr>\n",
       "    <tr>\n",
       "      <th>793</th>\n",
       "      <td>xSigma (anySIG)</td>\n",
       "      <td>0xc20ff003662d9b91b4139ffa6b7c9d69968bad2c</td>\n",
       "      <td>--</td>\n",
       "    </tr>\n",
       "    <tr>\n",
       "      <th>794</th>\n",
       "      <td>YIN Finance (anyYIN)</td>\n",
       "      <td>0x0aCAaBC390D7D7134eef4166F61e3e30B362f675</td>\n",
       "      <td>--</td>\n",
       "    </tr>\n",
       "    <tr>\n",
       "      <th>795</th>\n",
       "      <td>Yoshi.exchange (anyYOSHI)</td>\n",
       "      <td>0x6c01361d8dbaf43b81b52da3efae7dab1b8fffe9</td>\n",
       "      <td>--</td>\n",
       "    </tr>\n",
       "  </tbody>\n",
       "</table>\n",
       "<p>796 rows × 3 columns</p>\n",
       "</div>"
      ],
      "text/plain": [
       "                       bsc_Token_Name  \\\n",
       "0    Binance-Peg Ethereum Token (ETH)   \n",
       "1       Binance-Peg BSC-USD (BSC-USD)   \n",
       "2                  Wrapped BNB (WBNB)   \n",
       "3         Binance-Peg USD Coin (USDC)   \n",
       "4                      USDC (anyUSDC)   \n",
       "..                                ...   \n",
       "791   Wrapped ROSE (Wormhole) (wROSE)   \n",
       "792               Xpose Protocol (XP)   \n",
       "793                   xSigma (anySIG)   \n",
       "794              YIN Finance (anyYIN)   \n",
       "795         Yoshi.exchange (anyYOSHI)   \n",
       "\n",
       "                                  Token_Address          Token_Price  \n",
       "0    0x2170ed0880ac9a755fd29b2688956bd959f933f8  $208,082,744,875.00  \n",
       "1    0x55d398326f99059ff775485246999027b3197955   $70,394,919,623.00  \n",
       "2    0xbb4CdB9CBd36B01bD1cBaEBF2De08d9173bc095c   $49,843,215,439.00  \n",
       "3    0x8ac76a51cc950d9822d68b83fe1ad97b32cd580d   $41,927,075,666.00  \n",
       "4    0x8965349fb649a33a30cbfda057d8ec2c48abe2a2   $41,927,075,666.00  \n",
       "..                                          ...                  ...  \n",
       "791  0x6c6d604d3f07abe287c1a3df0281e999a83495c0                   --  \n",
       "792  0x6a0b045ea1cbc87946ee6ca4d118dc0b5c152455                   --  \n",
       "793  0xc20ff003662d9b91b4139ffa6b7c9d69968bad2c                   --  \n",
       "794  0x0aCAaBC390D7D7134eef4166F61e3e30B362f675                   --  \n",
       "795  0x6c01361d8dbaf43b81b52da3efae7dab1b8fffe9                   --  \n",
       "\n",
       "[796 rows x 3 columns]"
      ]
     },
     "execution_count": 93,
     "metadata": {},
     "output_type": "execute_result"
    }
   ],
   "source": [
    "df_etherscan_tok['Token_Price']= df_etherscan_tok['Token_Price'].apply(lambda x: x[1:].replace(',', '')).astype(float)"
   ]
  },
  {
   "cell_type": "code",
   "execution_count": 104,
   "metadata": {},
   "outputs": [
    {
     "data": {
      "text/html": [
       "<div>\n",
       "<style scoped>\n",
       "    .dataframe tbody tr th:only-of-type {\n",
       "        vertical-align: middle;\n",
       "    }\n",
       "\n",
       "    .dataframe tbody tr th {\n",
       "        vertical-align: top;\n",
       "    }\n",
       "\n",
       "    .dataframe thead th {\n",
       "        text-align: right;\n",
       "    }\n",
       "</style>\n",
       "<table border=\"1\" class=\"dataframe\">\n",
       "  <thead>\n",
       "    <tr style=\"text-align: right;\">\n",
       "      <th></th>\n",
       "      <th>Etherscan_Token_Name</th>\n",
       "      <th>Token_Address</th>\n",
       "      <th>Token_Price</th>\n",
       "    </tr>\n",
       "  </thead>\n",
       "  <tbody>\n",
       "    <tr>\n",
       "      <th>1139</th>\n",
       "      <td>Decentralized Accessible Content Chain</td>\n",
       "      <td>0xf8c595d070d104377f58715ce2e6c93e49a87f3c</td>\n",
       "      <td>17.0</td>\n",
       "    </tr>\n",
       "    <tr>\n",
       "      <th>1140</th>\n",
       "      <td>Agrolot Token</td>\n",
       "      <td>0x72c9fb7ed19d3ce51cea5c56b3e023cd918baadf</td>\n",
       "      <td>12.0</td>\n",
       "    </tr>\n",
       "    <tr>\n",
       "      <th>1141</th>\n",
       "      <td>USDQ Stablecoin by Q DAO v1.0</td>\n",
       "      <td>0x4954db6391f4feb5468b6b943d4935353596aec9</td>\n",
       "      <td>0.0</td>\n",
       "    </tr>\n",
       "    <tr>\n",
       "      <th>1142</th>\n",
       "      <td>InterValue</td>\n",
       "      <td>0xdac4ae188ace3c8985765edc6c9b4739d4845ddc</td>\n",
       "      <td>0.0</td>\n",
       "    </tr>\n",
       "    <tr>\n",
       "      <th>1143</th>\n",
       "      <td>DGD</td>\n",
       "      <td>0xe0b7927c4af23765cb51314a0e0521a9645f0e2a</td>\n",
       "      <td>0.0</td>\n",
       "    </tr>\n",
       "  </tbody>\n",
       "</table>\n",
       "</div>"
      ],
      "text/plain": [
       "                        Etherscan_Token_Name  \\\n",
       "1139  Decentralized Accessible Content Chain   \n",
       "1140                           Agrolot Token   \n",
       "1141           USDQ Stablecoin by Q DAO v1.0   \n",
       "1142                              InterValue   \n",
       "1143                                     DGD   \n",
       "\n",
       "                                   Token_Address  Token_Price  \n",
       "1139  0xf8c595d070d104377f58715ce2e6c93e49a87f3c         17.0  \n",
       "1140  0x72c9fb7ed19d3ce51cea5c56b3e023cd918baadf         12.0  \n",
       "1141  0x4954db6391f4feb5468b6b943d4935353596aec9          0.0  \n",
       "1142  0xdac4ae188ace3c8985765edc6c9b4739d4845ddc          0.0  \n",
       "1143  0xe0b7927c4af23765cb51314a0e0521a9645f0e2a          0.0  "
      ]
     },
     "execution_count": 104,
     "metadata": {},
     "output_type": "execute_result"
    }
   ],
   "source": [
    "df_etherscan_tok.tail()"
   ]
  },
  {
   "cell_type": "code",
   "execution_count": 97,
   "metadata": {},
   "outputs": [],
   "source": [
    "import numpy as np\n",
    "df_bsc_tok['Token_Price'].replace(['--', np.nan], inplace=True)"
   ]
  },
  {
   "cell_type": "code",
   "execution_count": 98,
   "metadata": {},
   "outputs": [],
   "source": [
    "df_bsc_tok['Token_Price']= df_bsc_tok['Token_Price'].apply(lambda x: x[1:].replace(',', '')).astype(float)"
   ]
  },
  {
   "cell_type": "code",
   "execution_count": 102,
   "metadata": {},
   "outputs": [
    {
     "data": {
      "text/html": [
       "<div>\n",
       "<style scoped>\n",
       "    .dataframe tbody tr th:only-of-type {\n",
       "        vertical-align: middle;\n",
       "    }\n",
       "\n",
       "    .dataframe tbody tr th {\n",
       "        vertical-align: top;\n",
       "    }\n",
       "\n",
       "    .dataframe thead th {\n",
       "        text-align: right;\n",
       "    }\n",
       "</style>\n",
       "<table border=\"1\" class=\"dataframe\">\n",
       "  <thead>\n",
       "    <tr style=\"text-align: right;\">\n",
       "      <th></th>\n",
       "      <th>bsc_Token_Name</th>\n",
       "      <th>Token_Address</th>\n",
       "      <th>Token_Price</th>\n",
       "    </tr>\n",
       "  </thead>\n",
       "  <tbody>\n",
       "    <tr>\n",
       "      <th>791</th>\n",
       "      <td>Wrapped ROSE (Wormhole) (wROSE)</td>\n",
       "      <td>0x6c6d604d3f07abe287c1a3df0281e999a83495c0</td>\n",
       "      <td>0.0</td>\n",
       "    </tr>\n",
       "    <tr>\n",
       "      <th>792</th>\n",
       "      <td>Xpose Protocol (XP)</td>\n",
       "      <td>0x6a0b045ea1cbc87946ee6ca4d118dc0b5c152455</td>\n",
       "      <td>0.0</td>\n",
       "    </tr>\n",
       "    <tr>\n",
       "      <th>793</th>\n",
       "      <td>xSigma (anySIG)</td>\n",
       "      <td>0xc20ff003662d9b91b4139ffa6b7c9d69968bad2c</td>\n",
       "      <td>0.0</td>\n",
       "    </tr>\n",
       "    <tr>\n",
       "      <th>794</th>\n",
       "      <td>YIN Finance (anyYIN)</td>\n",
       "      <td>0x0aCAaBC390D7D7134eef4166F61e3e30B362f675</td>\n",
       "      <td>0.0</td>\n",
       "    </tr>\n",
       "    <tr>\n",
       "      <th>795</th>\n",
       "      <td>Yoshi.exchange (anyYOSHI)</td>\n",
       "      <td>0x6c01361d8dbaf43b81b52da3efae7dab1b8fffe9</td>\n",
       "      <td>0.0</td>\n",
       "    </tr>\n",
       "  </tbody>\n",
       "</table>\n",
       "</div>"
      ],
      "text/plain": [
       "                      bsc_Token_Name  \\\n",
       "791  Wrapped ROSE (Wormhole) (wROSE)   \n",
       "792              Xpose Protocol (XP)   \n",
       "793                  xSigma (anySIG)   \n",
       "794             YIN Finance (anyYIN)   \n",
       "795        Yoshi.exchange (anyYOSHI)   \n",
       "\n",
       "                                  Token_Address  Token_Price  \n",
       "791  0x6c6d604d3f07abe287c1a3df0281e999a83495c0          0.0  \n",
       "792  0x6a0b045ea1cbc87946ee6ca4d118dc0b5c152455          0.0  \n",
       "793  0xc20ff003662d9b91b4139ffa6b7c9d69968bad2c          0.0  \n",
       "794  0x0aCAaBC390D7D7134eef4166F61e3e30B362f675          0.0  \n",
       "795  0x6c01361d8dbaf43b81b52da3efae7dab1b8fffe9          0.0  "
      ]
     },
     "execution_count": 102,
     "metadata": {},
     "output_type": "execute_result"
    }
   ],
   "source": [
    "df_bsc_tok.tail()"
   ]
  },
  {
   "cell_type": "code",
   "execution_count": 103,
   "metadata": {},
   "outputs": [
    {
     "data": {
      "text/html": [
       "<div>\n",
       "<style scoped>\n",
       "    .dataframe tbody tr th:only-of-type {\n",
       "        vertical-align: middle;\n",
       "    }\n",
       "\n",
       "    .dataframe tbody tr th {\n",
       "        vertical-align: top;\n",
       "    }\n",
       "\n",
       "    .dataframe thead th {\n",
       "        text-align: right;\n",
       "    }\n",
       "</style>\n",
       "<table border=\"1\" class=\"dataframe\">\n",
       "  <thead>\n",
       "    <tr style=\"text-align: right;\">\n",
       "      <th></th>\n",
       "      <th>bsc_Token_Name</th>\n",
       "      <th>Token_Address</th>\n",
       "      <th>Token_Price</th>\n",
       "    </tr>\n",
       "  </thead>\n",
       "  <tbody>\n",
       "    <tr>\n",
       "      <th>0</th>\n",
       "      <td>Binance-Peg Ethereum Token (ETH)</td>\n",
       "      <td>0x2170ed0880ac9a755fd29b2688956bd959f933f8</td>\n",
       "      <td>2.080827e+11</td>\n",
       "    </tr>\n",
       "    <tr>\n",
       "      <th>1</th>\n",
       "      <td>Binance-Peg BSC-USD (BSC-USD)</td>\n",
       "      <td>0x55d398326f99059ff775485246999027b3197955</td>\n",
       "      <td>7.039492e+10</td>\n",
       "    </tr>\n",
       "    <tr>\n",
       "      <th>2</th>\n",
       "      <td>Wrapped BNB (WBNB)</td>\n",
       "      <td>0xbb4CdB9CBd36B01bD1cBaEBF2De08d9173bc095c</td>\n",
       "      <td>4.984322e+10</td>\n",
       "    </tr>\n",
       "    <tr>\n",
       "      <th>3</th>\n",
       "      <td>Binance-Peg USD Coin (USDC)</td>\n",
       "      <td>0x8ac76a51cc950d9822d68b83fe1ad97b32cd580d</td>\n",
       "      <td>4.192708e+10</td>\n",
       "    </tr>\n",
       "    <tr>\n",
       "      <th>4</th>\n",
       "      <td>USDC (anyUSDC)</td>\n",
       "      <td>0x8965349fb649a33a30cbfda057d8ec2c48abe2a2</td>\n",
       "      <td>4.192708e+10</td>\n",
       "    </tr>\n",
       "    <tr>\n",
       "      <th>...</th>\n",
       "      <td>...</td>\n",
       "      <td>...</td>\n",
       "      <td>...</td>\n",
       "    </tr>\n",
       "    <tr>\n",
       "      <th>401</th>\n",
       "      <td>MMToken (MM)</td>\n",
       "      <td>0x73f059db0182dc2ed716d028e1b13033cfcbf63b</td>\n",
       "      <td>1.380400e+04</td>\n",
       "    </tr>\n",
       "    <tr>\n",
       "      <th>402</th>\n",
       "      <td>Fusible | Fusible.io (FUSII)</td>\n",
       "      <td>0x3a50d6daacc82f17a2434184fe904fc45542a734</td>\n",
       "      <td>1.207100e+04</td>\n",
       "    </tr>\n",
       "    <tr>\n",
       "      <th>403</th>\n",
       "      <td>Multiplier (bMXX)</td>\n",
       "      <td>0x4131b87f74415190425ccd873048c708f8005823</td>\n",
       "      <td>6.111000e+03</td>\n",
       "    </tr>\n",
       "    <tr>\n",
       "      <th>404</th>\n",
       "      <td>SF Capital (SFCP)</td>\n",
       "      <td>0x5ce8e55e256e4bd58cea94963d4cb280de6b8bb2</td>\n",
       "      <td>5.799000e+03</td>\n",
       "    </tr>\n",
       "    <tr>\n",
       "      <th>405</th>\n",
       "      <td>2local Token (2LC)</td>\n",
       "      <td>0x11f6ecc9e2658627e0876212f1078b9f84d3196e</td>\n",
       "      <td>4.356000e+03</td>\n",
       "    </tr>\n",
       "  </tbody>\n",
       "</table>\n",
       "<p>406 rows × 3 columns</p>\n",
       "</div>"
      ],
      "text/plain": [
       "                       bsc_Token_Name  \\\n",
       "0    Binance-Peg Ethereum Token (ETH)   \n",
       "1       Binance-Peg BSC-USD (BSC-USD)   \n",
       "2                  Wrapped BNB (WBNB)   \n",
       "3         Binance-Peg USD Coin (USDC)   \n",
       "4                      USDC (anyUSDC)   \n",
       "..                                ...   \n",
       "401                      MMToken (MM)   \n",
       "402      Fusible | Fusible.io (FUSII)   \n",
       "403                 Multiplier (bMXX)   \n",
       "404                 SF Capital (SFCP)   \n",
       "405                2local Token (2LC)   \n",
       "\n",
       "                                  Token_Address   Token_Price  \n",
       "0    0x2170ed0880ac9a755fd29b2688956bd959f933f8  2.080827e+11  \n",
       "1    0x55d398326f99059ff775485246999027b3197955  7.039492e+10  \n",
       "2    0xbb4CdB9CBd36B01bD1cBaEBF2De08d9173bc095c  4.984322e+10  \n",
       "3    0x8ac76a51cc950d9822d68b83fe1ad97b32cd580d  4.192708e+10  \n",
       "4    0x8965349fb649a33a30cbfda057d8ec2c48abe2a2  4.192708e+10  \n",
       "..                                          ...           ...  \n",
       "401  0x73f059db0182dc2ed716d028e1b13033cfcbf63b  1.380400e+04  \n",
       "402  0x3a50d6daacc82f17a2434184fe904fc45542a734  1.207100e+04  \n",
       "403  0x4131b87f74415190425ccd873048c708f8005823  6.111000e+03  \n",
       "404  0x5ce8e55e256e4bd58cea94963d4cb280de6b8bb2  5.799000e+03  \n",
       "405  0x11f6ecc9e2658627e0876212f1078b9f84d3196e  4.356000e+03  \n",
       "\n",
       "[406 rows x 3 columns]"
      ]
     },
     "execution_count": 103,
     "metadata": {},
     "output_type": "execute_result"
    }
   ],
   "source": [
    "df_bsc_tok.loc[df_bsc_tok['Token_Price']!= 0]"
   ]
  },
  {
   "cell_type": "code",
   "execution_count": 121,
   "metadata": {},
   "outputs": [],
   "source": [
    "df_eth_fin= df_etherscan_tok.loc[df_etherscan_tok['Token_Price']>5*1e5]"
   ]
  },
  {
   "cell_type": "code",
   "execution_count": 122,
   "metadata": {},
   "outputs": [],
   "source": [
    "df_bsc_fin= df_bsc_tok.loc[df_bsc_tok['Token_Price']> 1e6]"
   ]
  },
  {
   "cell_type": "code",
   "execution_count": 123,
   "metadata": {},
   "outputs": [
    {
     "name": "stdout",
     "output_type": "stream",
     "text": [
      "2081\n"
     ]
    }
   ],
   "source": [
    "print(len(unique_etherscan_addresses)\n",
    "+(len(unique_bsc_addresses))\n",
    "+(len(addresses_polygon))\n",
    "+df_eth_fin.shape[0]\n",
    "+df_bsc_fin.shape[0])"
   ]
  },
  {
   "cell_type": "markdown",
   "metadata": {},
   "source": [
    "# The Total Smart Contracts (Audited+Tokens) from Etherscan, PolygonScan, BSCScan are- 2081"
   ]
  }
 ],
 "metadata": {
  "kernelspec": {
   "display_name": "Python 3 (ipykernel)",
   "language": "python",
   "name": "python3"
  },
  "language_info": {
   "codemirror_mode": {
    "name": "ipython",
    "version": 3
   },
   "file_extension": ".py",
   "mimetype": "text/x-python",
   "name": "python",
   "nbconvert_exporter": "python",
   "pygments_lexer": "ipython3",
   "version": "3.8.5"
  }
 },
 "nbformat": 4,
 "nbformat_minor": 4
}
